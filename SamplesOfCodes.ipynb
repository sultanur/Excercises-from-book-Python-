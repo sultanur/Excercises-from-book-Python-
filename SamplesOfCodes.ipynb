{
 "cells": [
  {
   "cell_type": "code",
   "execution_count": 10,
   "id": "cd816d07",
   "metadata": {},
   "outputs": [
    {
     "data": {
      "text/plain": [
       "(1, 2, [3, 4, 1, 2])"
      ]
     },
     "execution_count": 10,
     "metadata": {},
     "output_type": "execute_result"
    }
   ],
   "source": [
    "a = ( 1,2, [3,4])\n",
    "b = a[2]\n",
    "b += [1,2]\n",
    "a"
   ]
  },
  {
   "cell_type": "code",
   "execution_count": 20,
   "id": "13aae80f",
   "metadata": {},
   "outputs": [
    {
     "name": "stdout",
     "output_type": "stream",
     "text": [
      "[1, 2, 3, 4, 5, 6, 7, 8, 9, 10]\n"
     ]
    }
   ],
   "source": [
    "L = [[1,2,3], [4,5], [6],[7,8,9],[10]]\n",
    "print(sum(L,[]))"
   ]
  },
  {
   "cell_type": "code",
   "execution_count": 22,
   "id": "df894688",
   "metadata": {},
   "outputs": [
    {
     "name": "stdout",
     "output_type": "stream",
     "text": [
      "1 2\n",
      "2 1\n"
     ]
    }
   ],
   "source": [
    "a , b = 1, 2\n",
    "print(a,b)\n",
    "a,b = b,a\n",
    "print (a,b)"
   ]
  },
  {
   "cell_type": "code",
   "execution_count": 27,
   "id": "0d2e1bec",
   "metadata": {},
   "outputs": [
    {
     "name": "stdout",
     "output_type": "stream",
     "text": [
      "1 2 3\n",
      "4 5 6\n"
     ]
    }
   ],
   "source": [
    "for ((a, b), c) in [((1, 2), 3), ((4, 5), 6)]:\n",
    "    print(a,b,c)"
   ]
  },
  {
   "cell_type": "code",
   "execution_count": 37,
   "id": "fff71806",
   "metadata": {},
   "outputs": [
    {
     "name": "stdout",
     "output_type": "stream",
     "text": [
      "[1, 2] 3 4\n",
      "1 [2, 3] 4\n",
      "1 2 [3, 4]\n",
      "1 2 3 [4]\n",
      "1 2 3 4 []\n",
      "1 2 3 4\n"
     ]
    }
   ],
   "source": [
    "seq = [1,2,3,4]\n",
    "*a,b,c = seq\n",
    "print(a,b,c)\n",
    "a,*b,c = seq\n",
    "print(a,b,c)\n",
    "a,b,*c = seq\n",
    "print(a,b,c)\n",
    "a,b,c,*d = seq\n",
    "print(a,b,c,d)\n",
    "a,b,c,d,*e = seq\n",
    "print(a,b,c,d,e)\n",
    "a,b,c,d = seq\n",
    "print(a,b,c,d)"
   ]
  },
  {
   "cell_type": "code",
   "execution_count": 39,
   "id": "763ee880",
   "metadata": {},
   "outputs": [
    {
     "name": "stdout",
     "output_type": "stream",
     "text": [
      "1 [2] 3\n",
      "4 [5, 6] 7\n"
     ]
    }
   ],
   "source": [
    "for (a,*b,c) in [a(1,2,3),(4,5,6,7)]:\n",
    "                 print(a,b,c)"
   ]
  },
  {
   "cell_type": "code",
   "execution_count": 40,
   "id": "08c8d62d",
   "metadata": {},
   "outputs": [
    {
     "name": "stdout",
     "output_type": "stream",
     "text": [
      "True\n"
     ]
    }
   ],
   "source": [
    "from collections import Counter\n",
    "\n",
    "str1 = 'proglib'\n",
    "str2 = 'prgolib'\n",
    "\n",
    "print(Counter(str1) == Counter(str2))"
   ]
  },
  {
   "cell_type": "code",
   "execution_count": 72,
   "id": "bd53c6e4",
   "metadata": {},
   "outputs": [
    {
     "name": "stdout",
     "output_type": "stream",
     "text": [
      "True\n",
      "False\n",
      "[1, 2]\n",
      "True\n",
      "[]\n"
     ]
    }
   ],
   "source": [
    "#reversed() method returns an iterator that accesses the given sequence in the reverse order.\n",
    "a = [1,2]\n",
    "b = [2,1]\n",
    "print(sorted(a) == sorted(b))\n",
    "print(reversed(a) == reversed(b))\n",
    "b = reversed(a)\n",
    "print(sorted(b))\n",
    "print(sorted(b) == sorted(b))\n",
    "print(sorted(b))\n"
   ]
  },
  {
   "cell_type": "code",
   "execution_count": 75,
   "id": "c3adef5e",
   "metadata": {},
   "outputs": [
    {
     "name": "stdout",
     "output_type": "stream",
     "text": [
      "not increasing\n"
     ]
    }
   ],
   "source": [
    "a, b, c = 3, 1, 2\n",
    "if a < b < c:\n",
    "    print (\"increasing\")\n",
    "else:\n",
    "    print (\"not increasing\")"
   ]
  },
  {
   "cell_type": "code",
   "execution_count": 78,
   "id": "9c8de864",
   "metadata": {},
   "outputs": [
    {
     "name": "stdout",
     "output_type": "stream",
     "text": [
      "True\n",
      "True\n"
     ]
    }
   ],
   "source": [
    "print(False == False in [False])\n",
    "print((False == False) and False in [False])"
   ]
  },
  {
   "cell_type": "code",
   "execution_count": 46,
   "id": "81c8eb63",
   "metadata": {},
   "outputs": [
    {
     "name": "stdout",
     "output_type": "stream",
     "text": [
      "[('a', 'c', 'e'), ('b', 'd', 'f')]\n"
     ]
    }
   ],
   "source": [
    "sample = [('a','b'),('c','d'),('e','f')]\n",
    "transposed = zip(*sample)\n",
    "print(list(transposed))"
   ]
  },
  {
   "cell_type": "code",
   "execution_count": 87,
   "id": "e604c081",
   "metadata": {},
   "outputs": [
    {
     "name": "stdout",
     "output_type": "stream",
     "text": [
      "True\n",
      "False\n",
      "[1, 2, 3]\n"
     ]
    }
   ],
   "source": [
    "print([1,2,3] == sorted([1,2,3]))\n",
    "print((1,2,3) == sorted((1,2,3))) #sorted return list\n",
    "print(sorted((1,2,3)))"
   ]
  },
  {
   "cell_type": "code",
   "execution_count": 105,
   "id": "4e9ccae9",
   "metadata": {},
   "outputs": [
    {
     "name": "stdout",
     "output_type": "stream",
     "text": [
      "2\n",
      "2\n",
      "2\n",
      "1\n",
      "1\n",
      "1\n",
      "1\n",
      "1\n"
     ]
    }
   ],
   "source": [
    "data = {1:'one', '1':'second',True:'True'}\n",
    "print(len(data))\n",
    "data = {1:'one', '1':'second'}\n",
    "print(len(data))\n",
    "data = {'1':'second',True:'True'}\n",
    "print(len(data))\n",
    "data = {1:'one',True:'True'}\n",
    "print(len(data))\n",
    "data = {1:'one'}\n",
    "print(len(data))\n",
    "data = {'1':'second'}\n",
    "print(len(data))\n",
    "data = {True:'True'}\n",
    "print(len(data))      "
   ]
  },
  {
   "cell_type": "code",
   "execution_count": 108,
   "id": "32c24f27",
   "metadata": {},
   "outputs": [
    {
     "name": "stdout",
     "output_type": "stream",
     "text": [
      "{0}\n",
      "{1}\n",
      "False\n",
      "{0}\n",
      "{1}\n"
     ]
    }
   ],
   "source": [
    "x,y = {0},{1}\n",
    "print(x)\n",
    "print(y)\n",
    "print(min(x,y) == min(y,x))\n",
    "print(min(x,y))\n",
    "print(min(y,x))\n"
   ]
  },
  {
   "cell_type": "code",
   "execution_count": 47,
   "id": "292b2557",
   "metadata": {},
   "outputs": [
    {
     "name": "stdout",
     "output_type": "stream",
     "text": [
      "[1, 2, 3, 4]\n"
     ]
    }
   ],
   "source": [
    "duplicates = [1,2,2,1,3,4,4,3,3,4]\n",
    "print(list(set(duplicates)))"
   ]
  },
  {
   "cell_type": "code",
   "execution_count": 110,
   "id": "ba265272",
   "metadata": {},
   "outputs": [],
   "source": [
    "#X = A or B or C or None\n",
    "#X = A or default\n"
   ]
  },
  {
   "cell_type": "code",
   "execution_count": 50,
   "id": "7f071a3d",
   "metadata": {},
   "outputs": [
    {
     "name": "stdout",
     "output_type": "stream",
     "text": [
      "12\n"
     ]
    }
   ],
   "source": [
    "#A = Y if X else Z\n",
    "def product(a,b):\n",
    "    return a*b\n",
    "def summarize(a,b):\n",
    "    return a+b\n",
    "c = True\n",
    "\n",
    "print((product if c else summarize)(3,4))"
   ]
  },
  {
   "cell_type": "code",
   "execution_count": 111,
   "id": "e395877c",
   "metadata": {},
   "outputs": [
    {
     "name": "stdout",
     "output_type": "stream",
     "text": [
      "{'a': 1, 'b': 2}\n",
      "1\n",
      "c\n"
     ]
    }
   ],
   "source": [
    "class MyDict(dict):\n",
    "    def __missing__(self,key):\n",
    "        return key\n",
    "D = MyDict(a=1, b=2)\n",
    "print(D)\n",
    "print(D['a'])\n",
    "print(D['c'])"
   ]
  },
  {
   "cell_type": "code",
   "execution_count": 56,
   "id": "9908e714",
   "metadata": {},
   "outputs": [
    {
     "data": {
      "text/plain": [
       "(1, 2, 3)"
      ]
     },
     "execution_count": 56,
     "metadata": {},
     "output_type": "execute_result"
    }
   ],
   "source": [
    "sample = (4,2,3)\n",
    "sample = (1,) + sample[1:]\n",
    "sample"
   ]
  },
  {
   "cell_type": "code",
   "execution_count": 112,
   "id": "2c05436d",
   "metadata": {},
   "outputs": [
    {
     "name": "stdout",
     "output_type": "stream",
     "text": [
      "proglib.io\n"
     ]
    }
   ],
   "source": [
    "for part in [\"prog\", \"lib\", \".io\", \"\\n\"]:\n",
    "    print(part, end='')"
   ]
  },
  {
   "cell_type": "code",
   "execution_count": 5,
   "id": "789cbb8b",
   "metadata": {},
   "outputs": [],
   "source": [
    "#Reding data from webbrowser\n",
    "import urllib.request\n",
    "with urllib.request.urlopen('https://www.linuxshelltips.com/install-docker-in-linux-mint/') as response:\n",
    "    html = response.read()\n",
    "print(html)"
   ]
  },
  {
   "cell_type": "code",
   "execution_count": 121,
   "id": "59f5ded0",
   "metadata": {},
   "outputs": [
    {
     "name": "stdout",
     "output_type": "stream",
     "text": [
      "1 a\n",
      "2 b\n",
      "3 c\n"
     ]
    }
   ],
   "source": [
    "for i, item in enumerate(('a', 'b', 'c'), 1): #also for list\n",
    "    print(i, item)"
   ]
  },
  {
   "cell_type": "code",
   "execution_count": 10,
   "id": "cb92ab10",
   "metadata": {},
   "outputs": [
    {
     "name": "stdout",
     "output_type": "stream",
     "text": [
      "3\n"
     ]
    }
   ],
   "source": [
    "def sum (arg1, arg2):\n",
    "    return arg1+arg2\n",
    "tup = 1,2\n",
    "print(sum(*tup))\n"
   ]
  },
  {
   "cell_type": "code",
   "execution_count": 122,
   "id": "c0640906",
   "metadata": {},
   "outputs": [
    {
     "name": "stdout",
     "output_type": "stream",
     "text": [
      "{0, 1, 64, 4, 36, 9, 16, 49, 81, 25}\n",
      "{0: 0, 1: 1, 2: 4, 3: 9, 4: 16, 5: 25, 6: 36, 7: 49, 8: 64, 9: 81}\n"
     ]
    }
   ],
   "source": [
    "S = {i**2 for i in range(10)}\n",
    "D = {i: i**2 for i in range(10)}\n",
    "print(S)\n",
    "print(D)"
   ]
  },
  {
   "cell_type": "code",
   "execution_count": 12,
   "id": "e2870401",
   "metadata": {},
   "outputs": [
    {
     "name": "stdout",
     "output_type": "stream",
     "text": [
      "22\n"
     ]
    }
   ],
   "source": [
    "def func (n):\n",
    "    return lambda a: a*n\n",
    "s = func(2)\n",
    "print(s(11))"
   ]
  },
  {
   "cell_type": "code",
   "execution_count": 125,
   "id": "e6ae74f8",
   "metadata": {},
   "outputs": [
    {
     "name": "stdout",
     "output_type": "stream",
     "text": [
      "2\n"
     ]
    }
   ],
   "source": [
    "a = [1, 2, 3, 1, 2, 3, 2, 2, 4, 5, 1]\n",
    "print(max(set(a), key = a.count))"
   ]
  },
  {
   "cell_type": "code",
   "execution_count": 5,
   "id": "6d5622b6",
   "metadata": {},
   "outputs": [
    {
     "name": "stdout",
     "output_type": "stream",
     "text": [
      "[(2, 4), (1, 3), (3, 2)]\n"
     ]
    }
   ],
   "source": [
    "from collections import Counter\n",
    "a = [1, 2, 3, 1, 2, 3, 2, 2, 4, 5, 1]\n",
    "cnt = Counter(a)\n",
    "print(cnt.most_common(3))"
   ]
  },
  {
   "cell_type": "code",
   "execution_count": 19,
   "id": "855d2783",
   "metadata": {},
   "outputs": [
    {
     "name": "stdout",
     "output_type": "stream",
     "text": [
      "No, there is no match\n"
     ]
    }
   ],
   "source": [
    "import re\n",
    "txt = 'The rain is in Spain'\n",
    "x = re.search('^The.*Spain$8',txt)\n",
    "if x:\n",
    "    print('Yes, we have a match')\n",
    "else:\n",
    "    print('No, there is no match')"
   ]
  },
  {
   "cell_type": "code",
   "execution_count": 6,
   "id": "8e293a33",
   "metadata": {},
   "outputs": [
    {
     "name": "stdout",
     "output_type": "stream",
     "text": [
      "[+] QR code done\n"
     ]
    }
   ],
   "source": [
    "#pip install qrcode\n",
    "import qrcode\n",
    "url = 'https://vk.com/'\n",
    "img = qrcode.make(url)\n",
    "img.save('QR_VK.png')\n",
    "print('[+] QR code done')"
   ]
  },
  {
   "cell_type": "code",
   "execution_count": 4,
   "id": "c70f2c26",
   "metadata": {},
   "outputs": [
    {
     "name": "stdout",
     "output_type": "stream",
     "text": [
      "b'https://gitlab.fit.cvut.cz/sultanur'\n"
     ]
    }
   ],
   "source": [
    "#decode QRCode\n",
    "#pip install -U pillow pyzbar\n",
    "\n",
    "from PIL import Image\n",
    "from pyzbar.pyzbar import decode \n",
    "\n",
    "decoded = decode(Image.open('QR.png'))\n",
    "print (decoded[0].data)\n"
   ]
  },
  {
   "cell_type": "code",
   "execution_count": 35,
   "id": "19f0e55b",
   "metadata": {},
   "outputs": [
    {
     "name": "stdout",
     "output_type": "stream",
     "text": [
      "[64, 32, 16, 8, 4, 2]\n"
     ]
    }
   ],
   "source": [
    "seq = [2**i for i in  range (6, 0, -1)]\n",
    "print ((seq))"
   ]
  },
  {
   "cell_type": "code",
   "execution_count": 15,
   "id": "de22f88f",
   "metadata": {},
   "outputs": [
    {
     "name": "stdout",
     "output_type": "stream",
     "text": [
      "0 1 2 3 4 5 6 7 8 9 \n"
     ]
    }
   ],
   "source": [
    "for i in range(10):\n",
    "    print(i, end = ' ')\n",
    "print()"
   ]
  },
  {
   "cell_type": "code",
   "execution_count": 42,
   "id": "2561cde1",
   "metadata": {},
   "outputs": [
    {
     "name": "stdout",
     "output_type": "stream",
     "text": [
      "4\n"
     ]
    }
   ],
   "source": [
    "a = 0\n",
    "print (a or 4)"
   ]
  },
  {
   "cell_type": "code",
   "execution_count": 3,
   "id": "9713ae8f",
   "metadata": {},
   "outputs": [
    {
     "name": "stdout",
     "output_type": "stream",
     "text": [
      "4\n",
      "None\n"
     ]
    }
   ],
   "source": [
    "def foo():\n",
    "    print(4)\n",
    "print(4 and foo())"
   ]
  },
  {
   "cell_type": "code",
   "execution_count": 4,
   "id": "5ff53b44",
   "metadata": {
    "scrolled": true
   },
   "outputs": [
    {
     "name": "stdout",
     "output_type": "stream",
     "text": [
      "232792560\n"
     ]
    }
   ],
   "source": [
    "import math\n",
    "#the least number evenly divisivble by each nuber in range (1,21) \n",
    "def compute():\n",
    "    answer = 1\n",
    "    for i in range(1, 21):\n",
    "        answer *= i // math.gcd(i, answer)       \n",
    "    return answer\n",
    "if __name__ == \"__main__\":\n",
    "    print(compute())"
   ]
  },
  {
   "cell_type": "code",
   "execution_count": 14,
   "id": "68bc2b71",
   "metadata": {},
   "outputs": [
    {
     "name": "stdout",
     "output_type": "stream",
     "text": [
      "Found\n"
     ]
    }
   ],
   "source": [
    "for i in 'Hi! I\\'m mister Robert':\n",
    "    if i == '\\'':\n",
    "        print(\"Found\")\n",
    "        break\n",
    "else:\n",
    "    print('Finished')"
   ]
  },
  {
   "cell_type": "code",
   "execution_count": 22,
   "id": "347c7d2f",
   "metadata": {},
   "outputs": [
    {
     "name": "stdout",
     "output_type": "stream",
     "text": [
      "([1],)\n",
      "True\n"
     ]
    }
   ],
   "source": [
    "a = ([],)\n",
    "a[0].extend([1])\n",
    "print(a)\n",
    "print(a[0]==[1])"
   ]
  },
  {
   "cell_type": "code",
   "execution_count": 127,
   "id": "f1f1d74c",
   "metadata": {},
   "outputs": [
    {
     "name": "stdout",
     "output_type": "stream",
     "text": [
      "1089154\n"
     ]
    }
   ],
   "source": [
    "def fibonacci():\n",
    "    a = 0\n",
    "    b = 1\n",
    "    even = 0\n",
    "    answ = 0\n",
    "    while even <= 4000000:    #4000000:\n",
    "        answ = a + b\n",
    "        a = b\n",
    "        b = answ\n",
    "        if b % 2  == 0:\n",
    "            even += b\n",
    "            if even > 4000000:\n",
    "                return even - b \n",
    "                break            \n",
    "    return even\n",
    "a = fibonacci()\n",
    "print(a)"
   ]
  },
  {
   "cell_type": "code",
   "execution_count": 125,
   "id": "10a80641",
   "metadata": {},
   "outputs": [
    {
     "name": "stdout",
     "output_type": "stream",
     "text": [
      "data\n"
     ]
    }
   ],
   "source": [
    "dictionary = {'data': 'ser',\n",
    "              'user': 7,\n",
    "              7: 'data'\n",
    "             }\n",
    "print(dictionary[dictionary['user']])"
   ]
  },
  {
   "cell_type": "code",
   "execution_count": 126,
   "id": "1d0b6cf0",
   "metadata": {},
   "outputs": [
    {
     "name": "stdout",
     "output_type": "stream",
     "text": [
      "1\n"
     ]
    }
   ],
   "source": [
    "test = [ 1,2,3,1,2,5,3,4,1,2,1,1,2,2,1,1,3,4,1,5,2,2]\n",
    "print(max(list(test) , key = test.count))"
   ]
  },
  {
   "cell_type": "code",
   "execution_count": 128,
   "id": "dbd51b4b",
   "metadata": {},
   "outputs": [
    {
     "name": "stdout",
     "output_type": "stream",
     "text": [
      "True\n"
     ]
    }
   ],
   "source": [
    "def sentence_has_animal(sentence:str ) -> bool:\n",
    "    return \"animal\" in sentence\n",
    "\n",
    "print(sentence_has_animal(\"He has own farm where you can find many animals\"))"
   ]
  },
  {
   "cell_type": "code",
   "execution_count": 169,
   "id": "1717e214",
   "metadata": {
    "scrolled": true
   },
   "outputs": [
    {
     "name": "stdout",
     "output_type": "stream",
     "text": [
      "Enter number of your card 123456789\n",
      "*****6789\n"
     ]
    }
   ],
   "source": [
    "def card_hide():\n",
    "    card = input(\"Enter number of your card: \")\n",
    "    first = card[:-4]\n",
    "    last = card[-4:]\n",
    "    for i in first:\n",
    "        first = first.replace(i, '*')\n",
    "    first = first+last\n",
    "    return first\n",
    "\n",
    "print(card_hide())"
   ]
  },
  {
   "cell_type": "code",
   "execution_count": 162,
   "id": "fbabe708",
   "metadata": {},
   "outputs": [
    {
     "data": {
      "text/plain": [
       "'abc'"
      ]
     },
     "execution_count": 162,
     "metadata": {},
     "output_type": "execute_result"
    }
   ],
   "source": [
    "search = \"1234567890\"\n",
    "replace = \"abcddefghi\"\n",
    "trans = str.maketrans(search, replace)\n",
    "'123'.translate(trans)\n"
   ]
  }
 ],
 "metadata": {
  "kernelspec": {
   "display_name": "Python 3",
   "language": "python",
   "name": "python3"
  },
  "language_info": {
   "codemirror_mode": {
    "name": "ipython",
    "version": 3
   },
   "file_extension": ".py",
   "mimetype": "text/x-python",
   "name": "python",
   "nbconvert_exporter": "python",
   "pygments_lexer": "ipython3",
   "version": "3.8.5"
  }
 },
 "nbformat": 4,
 "nbformat_minor": 5
}
